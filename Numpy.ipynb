{
 "cells": [
  {
   "cell_type": "code",
   "execution_count": null,
   "id": "803218ee-ce50-403b-9cc7-1730ad72dfd9",
   "metadata": {},
   "outputs": [],
   "source": [
    "Numpy stands for numerical python, which is used to handle large , multi-dimensional array and matrices.\n",
    "It offers functions for linear algebra and random number generation.\n",
    "It is imp for data science and ml\n",
    "It provide efficient storage and faster processing for numerical and scientic computations"
   ]
  },
  {
   "cell_type": "code",
   "execution_count": 1,
   "id": "491522e2-f2c0-450d-8a5b-e005669c2c96",
   "metadata": {},
   "outputs": [
    {
     "name": "stdout",
     "output_type": "stream",
     "text": [
      "list [1, 2, 3, 4]\n",
      "numpy array [1 2 3 4]\n"
     ]
    }
   ],
   "source": [
    "#one -dimensional array - it is a type of  linear array\n",
    "import numpy as np\n",
    "a=[1,2,3,4]\n",
    "arr=np.array(a)\n",
    "print(\"list\", a)\n",
    "print(\"numpy array\", arr)"
   ]
  },
  {
   "cell_type": "code",
   "execution_count": 2,
   "id": "ace99f13-9e89-485c-a3bd-d70bc229f8d2",
   "metadata": {},
   "outputs": [
    {
     "name": "stdout",
     "output_type": "stream",
     "text": [
      "multi dim array [[ 1  2  3  4]\n",
      " [ 5  6  7  8]\n",
      " [ 9 10 11 12]]\n"
     ]
    }
   ],
   "source": [
    "#multi - dimensional array  - it is an array that stores data more than one dimension as rows and colums\n",
    "#each element access by two indices\n",
    "import numpy as np\n",
    "list1=[1,2,3,4]\n",
    "list2=[5,6,7,8]\n",
    "list3=[9,10,11,12]\n",
    "array=np.array([list1, list2, list3])\n",
    "print(\"multi dim array\", array)"
   ]
  },
  {
   "cell_type": "code",
   "execution_count": 3,
   "id": "4737ff89-a96d-4c8d-81f0-a9b3bc713b26",
   "metadata": {},
   "outputs": [
    {
     "name": "stdout",
     "output_type": "stream",
     "text": [
      "Shape of the array: (5, 3)\n"
     ]
    }
   ],
   "source": [
    "#parameters\n",
    "#axis:   which describes the order of indexing into the array, axis0=1 dim, axis1=2dim\n",
    "#shape:  number of elemnts with each axis, returned as tuples\n",
    "#rank:   simply the number of dimensions it has, 1dim has rank1, 2dim has 2 ranks\n",
    "import numpy as np \n",
    "array=np.array([[0, 4, 2],\n",
    "                       [3, 4, 5],\n",
    "                       [23, 4, 5],\n",
    "                       [2, 34, 5],\n",
    "                       [5, 6, 7]])\n",
    "print(\"Shape of the array:\", array.shape)"
   ]
  },
  {
   "cell_type": "code",
   "execution_count": 4,
   "id": "3b69e37f-f548-4ec7-b6c1-4db24b7c12c9",
   "metadata": {},
   "outputs": [
    {
     "name": "stdout",
     "output_type": "stream",
     "text": [
      "int32\n"
     ]
    }
   ],
   "source": [
    "#datatype is an example of numpy.dtype\n",
    "import numpy as np\n",
    "array=np.array([0,4,2])\n",
    "print(array.dtype)"
   ]
  },
  {
   "cell_type": "code",
   "execution_count": 5,
   "id": "ad9fb860-32fb-481b-b6c5-fc2cb33d23be",
   "metadata": {},
   "outputs": [
    {
     "name": "stdout",
     "output_type": "stream",
     "text": [
      "Array [3 4 5 5]\n"
     ]
    }
   ],
   "source": [
    "#different ways of creating numpy array\n",
    "#numpy.array() -> numpy array object is called ndarray, we create ndarray using this fun\n",
    "import numpy as np\n",
    "arr=np.array([3,4,5,5])\n",
    "print(\"Array\",arr)"
   ]
  },
  {
   "cell_type": "code",
   "execution_count": 8,
   "id": "0197cb7c-02ca-41cb-9d2c-c09d2cdceb0c",
   "metadata": {},
   "outputs": [
    {
     "name": "stdout",
     "output_type": "stream",
     "text": [
      "['S' 'a' 'h' 'a' 'n' 'a']\n",
      "['Sa' 'ha' 'na']\n"
     ]
    }
   ],
   "source": [
    "#numpy.fromiter() -> it creates new one dim array from an iterable object.\n",
    "#numpy.frontier(iterable, dtype, count=-1)\n",
    "#A NumPy array that stores Unicode strings, each of length up to 2 characters.\n",
    "\n",
    "import numpy as np\n",
    "S=\"Sahana\"\n",
    "arr=np.fromiter(S,  dtype='U2')\n",
    "print(arr)\n",
    "\n",
    "arr = np.fromiter([\"Sa\", \"ha\", \"na\"], dtype='U2')\n",
    "print(arr)\n"
   ]
  },
  {
   "cell_type": "code",
   "execution_count": 10,
   "id": "f3652eef-6fd6-41ee-bc0c-d5f2a0e42435",
   "metadata": {},
   "outputs": [
    {
     "data": {
      "text/plain": [
       "array([ 1.,  3.,  5.,  7.,  9., 11., 13., 15., 17., 19.], dtype=float32)"
      ]
     },
     "execution_count": 10,
     "metadata": {},
     "output_type": "execute_result"
    }
   ],
   "source": [
    "#numpy.arange() -> that returns evenly spacecd values within a given interval\n",
    "#Syntax:  numpy.arange( start , stop, step , dtype=None )\n",
    "import numpy as np\n",
    "np.arange(1,20,2, dtype=np.float32)"
   ]
  },
  {
   "cell_type": "code",
   "execution_count": 17,
   "id": "ce6726b6-f81a-40e4-bd72-d7a2a46693b2",
   "metadata": {},
   "outputs": [
    {
     "data": {
      "text/plain": [
       "array([ 3,  5,  7, 10])"
      ]
     },
     "execution_count": 17,
     "metadata": {},
     "output_type": "execute_result"
    }
   ],
   "source": [
    "#numpy.linspace(): This function returns evenly spaced numbers over a specified between two limits.\n",
    "#Syntax: numpy.linspace(start, stop, num=50, endpoint=True, retstep=False, dtype=None, axis=0)\n",
    "import numpy as np\n",
    "np.linspace(3, 10, 4,  dtype = np.int32)"
   ]
  },
  {
   "cell_type": "code",
   "execution_count": 19,
   "id": "04dc4139-ace6-428d-bf90-97829fdf7561",
   "metadata": {},
   "outputs": [
    {
     "data": {
      "text/plain": [
       "array([[ 83,   0,  97],\n",
       "       [  0, 104,   0],\n",
       "       [ 97,   0, 110],\n",
       "       [  0,  97,   0]])"
      ]
     },
     "execution_count": 19,
     "metadata": {},
     "output_type": "execute_result"
    }
   ],
   "source": [
    "#numpy.empty(): This function create a new array of given shape and type without #initializing value. the output generate randomly \n",
    "#Syntax: numpy.empty(shape, dtype=float, order='C')\n",
    "#randomly generate\n",
    "import numpy as np\n",
    "np.empty([4, 3],.\n",
    "         dtype = np.int32,\n",
    "         order = 'C')"
   ]
  },
  {
   "cell_type": "code",
   "execution_count": 1,
   "id": "63ba7cb3-3900-4116-8c69-0297923154f8",
   "metadata": {},
   "outputs": [
    {
     "data": {
      "text/plain": [
       "array([[1, 1, 1],\n",
       "       [1, 1, 1],\n",
       "       [1, 1, 1],\n",
       "       [1, 1, 1]])"
      ]
     },
     "execution_count": 1,
     "metadata": {},
     "output_type": "execute_result"
    }
   ],
   "source": [
    "#numpy.ones(): This function is used to get a new array of given shape and type filled with ones (1).\n",
    "#Syntax: numpy.ones(shape, dtype=None, order='C')\n",
    "import numpy as np\n",
    "\n",
    "np.ones([4, 3],\n",
    "        dtype = np.int32,\n",
    "        order = 'C')"
   ]
  },
  {
   "cell_type": "code",
   "execution_count": 21,
   "id": "a673404f-e104-4757-a462-51a160826f06",
   "metadata": {},
   "outputs": [
    {
     "data": {
      "text/plain": [
       "array([[0, 0, 0],\n",
       "       [0, 0, 0],\n",
       "       [0, 0, 0],\n",
       "       [0, 0, 0]])"
      ]
     },
     "execution_count": 21,
     "metadata": {},
     "output_type": "execute_result"
    }
   ],
   "source": [
    "# numpy.zeros(): This function is used to get a new array of given shape and type filled with zeros (0). \n",
    "#Syntax: numpy.zeros(shape, dtype=None, order='C')\n",
    "import numpy as np\n",
    "np.zeros([4, 3], \n",
    "         dtype = np.int32,\n",
    "         order = 'f')"
   ]
  },
  {
   "cell_type": "code",
   "execution_count": 25,
   "id": "62f5b0b8-1e4c-4841-ac77-ffa324c235df",
   "metadata": {},
   "outputs": [
    {
     "name": "stdout",
     "output_type": "stream",
     "text": [
      "[ 6  8 10 12]\n"
     ]
    }
   ],
   "source": [
    "#Addition of Arrays ; where corresponding elements of arrays are added together\n",
    "#add, sub, multiply,divide, power(exponential), mod(modulus)\n",
    "import numpy as np\n",
    "a=np.array([1,2,3,4])\n",
    "b=np.array([5,6,7,8])\n",
    "addition=np.add(a, b)\n",
    "print(addition)"
   ]
  },
  {
   "cell_type": "code",
   "execution_count": 26,
   "id": "e438d2ea-6652-485f-b151-7e1271194958",
   "metadata": {},
   "outputs": [
    {
     "name": "stdout",
     "output_type": "stream",
     "text": [
      "[[11 12 13]\n",
      " [14 15 16]]\n"
     ]
    }
   ],
   "source": [
    "#Broadcasting \n",
    "#Broadcasting in NumPy allows us to perform arithmetic operations on arrays of different shapes without reshaping them. \n",
    "#It automatically adjusts the smaller array to match the larger array's shape by\n",
    "\n",
    "import numpy as np\n",
    "array_2d=np.array([[1,2,3],[4,5,6]])\n",
    "scalar=10\n",
    "result=array_2d + scalar\n",
    "print(result)"
   ]
  },
  {
   "cell_type": "code",
   "execution_count": 27,
   "id": "fcb90652-3206-49eb-9073-657b1597af57",
   "metadata": {},
   "outputs": [
    {
     "name": "stdout",
     "output_type": "stream",
     "text": [
      "[2 3 4]\n"
     ]
    }
   ],
   "source": [
    "import numpy as np \n",
    "arr=np.array([1,2,3]) \n",
    "res=arr+1 \n",
    "print(res)"
   ]
  },
  {
   "cell_type": "code",
   "execution_count": 28,
   "id": "2c31a105-ee25-4603-8f5c-5f8a436827bd",
   "metadata": {},
   "outputs": [
    {
     "name": "stdout",
     "output_type": "stream",
     "text": [
      "[[ 3  7 11]\n",
      " [ 9 13 16]]\n"
     ]
    }
   ],
   "source": [
    "import numpy as np\n",
    "a1=np.array([2,4,6])\n",
    "a2=np.array([[1,3,5],[7,9,10]])\n",
    "res=a1+a2\n",
    "print(res)"
   ]
  },
  {
   "cell_type": "code",
   "execution_count": 30,
   "id": "f9ffa7a6-8a37-44aa-9661-1de1c7881add",
   "metadata": {},
   "outputs": [
    {
     "name": "stdout",
     "output_type": "stream",
     "text": [
      "['minor' 'adult' 'adult' 'adult' 'adult' 'adult']\n"
     ]
    }
   ],
   "source": [
    "import numpy as np\n",
    "ages=np.array([12,24,35,45,60,72])\n",
    "age_group=np.array([\"adult\",\"minor\"])\n",
    "result=np.where(ages>18, age_group[0], age_group[1])\n",
    "print(result)"
   ]
  },
  {
   "cell_type": "code",
   "execution_count": 31,
   "id": "6a188d8a-4ead-4ab0-9686-e200a7933f71",
   "metadata": {},
   "outputs": [
    {
     "name": "stdout",
     "output_type": "stream",
     "text": [
      "[[10 40]\n",
      " [30 80]]\n"
     ]
    }
   ],
   "source": [
    "import numpy as np\n",
    "matrix=np.array(([1,2],[3,4]))\n",
    "vector=np.array([10,20])\n",
    "res=matrix*vector\n",
    "print(res)"
   ]
  },
  {
   "cell_type": "code",
   "execution_count": 33,
   "id": "ceb947f8-3c75-467b-9ff5-4db2f65518c3",
   "metadata": {},
   "outputs": [
    {
     "name": "stdout",
     "output_type": "stream",
     "text": [
      "[[  7.2  11.6  15.6]\n",
      " [471.6  94.4 146. ]\n",
      " [496.8 126.8  95.6]\n",
      " [129.6  44.   19.6]]\n"
     ]
    }
   ],
   "source": [
    "food_data = np.array([[0.8, 2.9, 3.9], \n",
    "                      [52.4, 23.6, 36.5],\n",
    "                      [55.2, 31.7, 23.9],\n",
    "                      [14.4, 11, 4.9]])\n",
    "\n",
    "caloric_matrix = np.array([9,4,4]) \n",
    "\n",
    "calorie_breakdown = food_data * caloric_matrix\n",
    "print(calorie_breakdown)"
   ]
  },
  {
   "cell_type": "code",
   "execution_count": 36,
   "id": "90d0733f-2438-4013-a485-995b4a2302c8",
   "metadata": {},
   "outputs": [
    {
     "name": "stdout",
     "output_type": "stream",
     "text": [
      "[[31.5 33.5 35.5 34.5 32.5]\n",
      " [24.5 26.5 28.5 27.5 25.5]\n",
      " [22.  24.  26.  25.  23. ]]\n"
     ]
    }
   ],
   "source": [
    "import numpy as np\n",
    "\n",
    "temperatures = np.array([\n",
    "    [30, 32, 34, 33, 31],  \n",
    "    [25, 27, 29, 28, 26], \n",
    "    [20, 22, 24, 23, 21]  \n",
    "])\n",
    "\n",
    "corrections = np.array([1.5, -0.5, 2.0])\n",
    "\n",
    "adjusted_temperatures = temperatures + corrections[:,np.newaxis]\n",
    "print(adjusted_temperatures)\n",
    "#[:, np.newaxis] is a NumPy slicing trick used to add a new axis (dimension) to an array."
   ]
  },
  {
   "cell_type": "code",
   "execution_count": 37,
   "id": "00bff1c7-b447-4300-945d-2b5c97cf6372",
   "metadata": {},
   "outputs": [
    {
     "name": "stdout",
     "output_type": "stream",
     "text": [
      "[[ 1.22474487  1.22474487  0.        ]\n",
      " [ 0.          0.          1.22474487]\n",
      " [-1.22474487 -1.22474487 -1.22474487]]\n"
     ]
    }
   ],
   "source": [
    "#normalization of image data\n",
    "#mean=0, std=1\n",
    "#subtracting the mean by ensuring features hv zero mean\n",
    "#scales data by dividng std by ensuring features hv unique variance\n",
    "import numpy as np\n",
    "image=np.array([\n",
    "    [100,120,130],\n",
    "    [90,110,140],\n",
    "    [80,100,120]\n",
    "])\n",
    "mean=image.mean(axis=0)\n",
    "std=image.std(axis=0)\n",
    "\n",
    "normalized_image=(image-mean)/std\n",
    "print(normalized_image)\n"
   ]
  },
  {
   "cell_type": "code",
   "execution_count": 38,
   "id": "efd62fe0-cf2a-431d-b607-27ddeb79c685",
   "metadata": {},
   "outputs": [
    {
     "name": "stdout",
     "output_type": "stream",
     "text": [
      "[[-5. -5.]\n",
      " [ 0.  0.]\n",
      " [ 5.  5.]]\n"
     ]
    }
   ],
   "source": [
    "#centering data in machine learning\n",
    "#shifiting data so that each feature has a mean 0, it is done by substracting mean of each feature from every simple\n",
    "\n",
    "import numpy as np\n",
    "data=np.array([\n",
    "    [10,20],\n",
    "    [15,25],\n",
    "    [20,30]\n",
    "])\n",
    "feature_mean=data.mean(axis=0)   # [(10+15=20)/3,  (20+25+30)/3]  = [15,25]\n",
    "centered_data=data-feature_mean    #10-15=-5,,,20-25=-5\n",
    "print(centered_data)"
   ]
  },
  {
   "cell_type": "code",
   "execution_count": null,
   "id": "8da1b5e7-68a2-42d0-8496-858a93330462",
   "metadata": {},
   "outputs": [],
   "source": []
  }
 ],
 "metadata": {
  "kernelspec": {
   "display_name": "Python 3 (ipykernel)",
   "language": "python",
   "name": "python3"
  },
  "language_info": {
   "codemirror_mode": {
    "name": "ipython",
    "version": 3
   },
   "file_extension": ".py",
   "mimetype": "text/x-python",
   "name": "python",
   "nbconvert_exporter": "python",
   "pygments_lexer": "ipython3",
   "version": "3.11.7"
  },
  "widgets": {
   "application/vnd.jupyter.widget-state+json": {
    "state": {},
    "version_major": 2,
    "version_minor": 0
   }
  }
 },
 "nbformat": 4,
 "nbformat_minor": 5
}
