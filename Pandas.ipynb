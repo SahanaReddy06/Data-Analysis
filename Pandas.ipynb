{
 "cells": [
  {
   "cell_type": "code",
   "execution_count": 1,
   "id": "f7f496d0-8a50-4772-9d2d-59b0b50bdb98",
   "metadata": {},
   "outputs": [
    {
     "name": "stdout",
     "output_type": "stream",
     "text": [
      "Requirement already satisfied: pandas in c:\\users\\reddy\\anaconda3\\jupyter\\lib\\site-packages (2.1.4)\n",
      "Requirement already satisfied: numpy<2,>=1.23.2 in c:\\users\\reddy\\anaconda3\\jupyter\\lib\\site-packages (from pandas) (1.26.4)\n",
      "Requirement already satisfied: python-dateutil>=2.8.2 in c:\\users\\reddy\\anaconda3\\jupyter\\lib\\site-packages (from pandas) (2.9.0.post0)\n",
      "Requirement already satisfied: pytz>=2020.1 in c:\\users\\reddy\\anaconda3\\jupyter\\lib\\site-packages (from pandas) (2023.3.post1)\n",
      "Requirement already satisfied: tzdata>=2022.1 in c:\\users\\reddy\\anaconda3\\jupyter\\lib\\site-packages (from pandas) (2023.3)\n",
      "Requirement already satisfied: six>=1.5 in c:\\users\\reddy\\anaconda3\\jupyter\\lib\\site-packages (from python-dateutil>=2.8.2->pandas) (1.16.0)\n"
     ]
    },
    {
     "name": "stderr",
     "output_type": "stream",
     "text": [
      "\n",
      "[notice] A new release of pip is available: 24.1.2 -> 25.2\n",
      "[notice] To update, run: python.exe -m pip install --upgrade pip\n"
     ]
    }
   ],
   "source": [
    "!pip install pandas\n",
    "#Pandas is open-source Python library which is used for data manipulation and analysis.\n",
    "#it is wel suited for tabular data like spreadsheets or sql tables.it is used for data science, it is built on top of numpy.\n",
    "#Data Cleaning, Merging and Joining, \n",
    "#handling missing data, \n",
    "#column in sertion and deletion\n",
    "#data visualization"
   ]
  },
  {
   "cell_type": "code",
   "execution_count": null,
   "id": "10239401-2305-4130-9e9c-5e24069ceafe",
   "metadata": {},
   "outputs": [],
   "source": [
    "Two data structures\n",
    "Pandas Series: A Pandas Series is one-dimensional labeled array capable of holding data of any type (integer, string, float..)\n",
    "Pandas DataFrame is a two-dimensional data structure with labeled axes (rows and columns).\n",
    "It can be created from loading dataset or creating from list, dict..etc"
   ]
  },
  {
   "cell_type": "code",
   "execution_count": 4,
   "id": "88457ec1-9d35-424a-a684-4f3e24a6ebd3",
   "metadata": {},
   "outputs": [
    {
     "data": {
      "text/plain": [
       "array([1, 2, 3, 4, 5])"
      ]
     },
     "execution_count": 4,
     "metadata": {},
     "output_type": "execute_result"
    }
   ],
   "source": [
    "import pandas as pd\n",
    "import numpy as np\n",
    "l=[1,2,3,4,5]\n",
    "np.array(l)"
   ]
  },
  {
   "cell_type": "code",
   "execution_count": 7,
   "id": "654daf85-2e8d-4cc8-bb3a-1d0673667b62",
   "metadata": {},
   "outputs": [
    {
     "data": {
      "text/plain": [
       "0    [1, 2, 3, 4, 5]\n",
       "1    [1, 2, 3, 4, 5]\n",
       "2    [1, 2, 3, 4, 5]\n",
       "dtype: object"
      ]
     },
     "execution_count": 7,
     "metadata": {},
     "output_type": "execute_result"
    }
   ],
   "source": [
    "pd.Series([l,l,l])\n",
    "#numbers on left which assigned automatically"
   ]
  },
  {
   "cell_type": "code",
   "execution_count": 16,
   "id": "d2173a98-7874-4dd1-aeff-065cd3e498dc",
   "metadata": {},
   "outputs": [
    {
     "data": {
      "text/html": [
       "<div>\n",
       "<style scoped>\n",
       "    .dataframe tbody tr th:only-of-type {\n",
       "        vertical-align: middle;\n",
       "    }\n",
       "\n",
       "    .dataframe tbody tr th {\n",
       "        vertical-align: top;\n",
       "    }\n",
       "\n",
       "    .dataframe thead th {\n",
       "        text-align: right;\n",
       "    }\n",
       "</style>\n",
       "<table border=\"1\" class=\"dataframe\">\n",
       "  <thead>\n",
       "    <tr style=\"text-align: right;\">\n",
       "      <th></th>\n",
       "      <th>A</th>\n",
       "      <th>B</th>\n",
       "      <th>C</th>\n",
       "      <th>D</th>\n",
       "      <th>E</th>\n",
       "    </tr>\n",
       "  </thead>\n",
       "  <tbody>\n",
       "    <tr>\n",
       "      <th>0</th>\n",
       "      <td>1</td>\n",
       "      <td>2</td>\n",
       "      <td>3</td>\n",
       "      <td>4</td>\n",
       "      <td>5</td>\n",
       "    </tr>\n",
       "    <tr>\n",
       "      <th>1</th>\n",
       "      <td>1</td>\n",
       "      <td>2</td>\n",
       "      <td>3</td>\n",
       "      <td>4</td>\n",
       "      <td>5</td>\n",
       "    </tr>\n",
       "    <tr>\n",
       "      <th>2</th>\n",
       "      <td>1</td>\n",
       "      <td>2</td>\n",
       "      <td>3</td>\n",
       "      <td>4</td>\n",
       "      <td>5</td>\n",
       "    </tr>\n",
       "    <tr>\n",
       "      <th>3</th>\n",
       "      <td>1</td>\n",
       "      <td>2</td>\n",
       "      <td>3</td>\n",
       "      <td>4</td>\n",
       "      <td>5</td>\n",
       "    </tr>\n",
       "    <tr>\n",
       "      <th>4</th>\n",
       "      <td>1</td>\n",
       "      <td>2</td>\n",
       "      <td>3</td>\n",
       "      <td>4</td>\n",
       "      <td>5</td>\n",
       "    </tr>\n",
       "  </tbody>\n",
       "</table>\n",
       "</div>"
      ],
      "text/plain": [
       "   A  B  C  D  E\n",
       "0  1  2  3  4  5\n",
       "1  1  2  3  4  5\n",
       "2  1  2  3  4  5\n",
       "3  1  2  3  4  5\n",
       "4  1  2  3  4  5"
      ]
     },
     "execution_count": 16,
     "metadata": {},
     "output_type": "execute_result"
    }
   ],
   "source": [
    "df=pd.DataFrame([l,l,l,l,l], columns=['A','B', 'C', 'D','E'])\n",
    "df\n"
   ]
  },
  {
   "cell_type": "code",
   "execution_count": null,
   "id": "96dfc2ba-7a16-491e-8183-7533f0fe24bd",
   "metadata": {},
   "outputs": [],
   "source": [
    "#del df -> to delete df\n",
    "pd.array()"
   ]
  },
  {
   "cell_type": "code",
   "execution_count": 21,
   "id": "5887d6ea-47cb-4488-9de8-b6159d183e42",
   "metadata": {},
   "outputs": [
    {
     "name": "stdout",
     "output_type": "stream",
     "text": [
      "Series([], dtype: object)\n",
      "0    s\n",
      "1    a\n",
      "2    h\n",
      "3    a\n",
      "4    n\n",
      "5    a\n",
      "dtype: object\n"
     ]
    }
   ],
   "source": [
    "import numpy as np\n",
    "import pandas as pd \n",
    "\n",
    "s=pd.Series()\n",
    "print(s)\n",
    "\n",
    "data=np. array(['s','a','h','a','n','a'])\n",
    "s=pd.Series(data)\n",
    "print(s)"
   ]
  },
  {
   "cell_type": "code",
   "execution_count": 23,
   "id": "688513e9-9382-4d56-b5e7-a48404e6448a",
   "metadata": {},
   "outputs": [
    {
     "name": "stdout",
     "output_type": "stream",
     "text": [
      "0    s\n",
      "1    a\n",
      "dtype: object\n"
     ]
    }
   ],
   "source": [
    "#position - based indexing\n",
    "#in order to access series elements refer to index number\n",
    "#inorder to access multiple elements access slice operation\n",
    "import numpy as np\n",
    "import pandas as pd \n",
    "data=np. array(['s','a','h','a','n','a'])\n",
    "s=pd.Series(data)\n",
    "print(s[:2])"
   ]
  },
  {
   "cell_type": "code",
   "execution_count": 24,
   "id": "b68de07e-1eb5-4eeb-af36-94d497e575d1",
   "metadata": {},
   "outputs": [
    {
     "name": "stdout",
     "output_type": "stream",
     "text": [
      "s\n"
     ]
    }
   ],
   "source": [
    "#label based indexing\n",
    "#In order to access an element, we have to set values by index label\n",
    "import numpy as np\n",
    "import pandas as pd \n",
    "data=np. array(['s','a','h','a','n','a'])\n",
    "ser=pd.Series(data, index=[0,1,2,3,4,5])\n",
    "print(ser[0])"
   ]
  },
  {
   "cell_type": "code",
   "execution_count": null,
   "id": "85c0f50a-3715-4c47-8530-df1d2b40ac15",
   "metadata": {},
   "outputs": [],
   "source": [
    "import pandas as pd\n",
    "df=pd.read_csv(\"nba.csv\")\n",
    "ser=pd.Series(df['Name'])\n",
    "data=ser.head(10)\n",
    "data"
   ]
  },
  {
   "cell_type": "code",
   "execution_count": null,
   "id": "e20f0131-841d-4b48-87ca-86de9df04006",
   "metadata": {},
   "outputs": [],
   "source": [
    "data.loc[3:6]\n",
    "#data.loc[3:6] which retrieves elements with labels from 3 to 6"
   ]
  },
  {
   "cell_type": "code",
   "execution_count": null,
   "id": "b3cbaf58-c396-468b-abbd-403cbbd3b2de",
   "metadata": {},
   "outputs": [],
   "source": [
    "import pandas as pd  \n",
    "  \n",
    "df = pd.read_csv(\"nba.csv\")  \n",
    "   \n",
    "ser = pd.Series(df['Name']) \n",
    "data = ser.head(10)\n",
    "data "
   ]
  },
  {
   "cell_type": "code",
   "execution_count": null,
   "id": "487351d2-a708-42da-8a21-eba8e78a4836",
   "metadata": {},
   "outputs": [],
   "source": [
    "data.iloc[3:6]\n",
    "#It fetch elements at index positions 3 to 5 excluding index 6."
   ]
  },
  {
   "cell_type": "code",
   "execution_count": 28,
   "id": "48af5ed8-fce4-4e58-9111-688d32552ee5",
   "metadata": {},
   "outputs": [
    {
     "name": "stdout",
     "output_type": "stream",
     "text": [
      "A    5\n",
      "B    7\n",
      "C    9\n",
      "dtype: int64\n"
     ]
    }
   ],
   "source": [
    "#Binary operations\n",
    "import pandas as pd\n",
    "import numpy as np\n",
    "s1=pd.Series([1,2,3], index=['A', 'B', 'C'])\n",
    "s2=pd.Series([4,5,6], index=['A', 'B', 'C'])\n",
    "\n",
    "sum=s1.add(s2)\n",
    "print(sum)"
   ]
  },
  {
   "cell_type": "code",
   "execution_count": 30,
   "id": "d75d7096-725c-4f2f-b2c4-3ab81b9c281c",
   "metadata": {},
   "outputs": [
    {
     "name": "stdout",
     "output_type": "stream",
     "text": [
      "0    1.0\n",
      "1    2.0\n",
      "2    3.0\n",
      "3    4.0\n",
      "dtype: float64\n"
     ]
    }
   ],
   "source": [
    "#conversion operation\n",
    "# .astype(float) method converts all integer values in the Series to float.\n",
    "import pandas as pd\n",
    "s=pd.Series([1,2,3,4])\n",
    "s=s.astype(float)\n",
    "print(s)"
   ]
  },
  {
   "cell_type": "raw",
   "id": "0658af9b-b917-40a7-a54c-b0cc9443aec4",
   "metadata": {},
   "source": [
    "#dataframe is 2d table like structure where data arranged in rows and columns, it is # It used to handle data and make it easy to organize and manipulate data\n",
    "#data- actual values in the table\n",
    "#rows: lable (rows)\n",
    "#col : label(col)"
   ]
  },
  {
   "cell_type": "code",
   "execution_count": 35,
   "id": "be51ad87-bef1-4789-bcee-5a11381b38ab",
   "metadata": {},
   "outputs": [
    {
     "name": "stdout",
     "output_type": "stream",
     "text": [
      "     Name  Age\n",
      "0  sahana   20\n",
      "1     tom   21\n"
     ]
    }
   ],
   "source": [
    "import pandas as pd\n",
    "data={'Name':['sahana','tom'],\n",
    "      'Age':[20,21],\n",
    "     'sex':['F','M']}\n",
    "df=pd.DataFrame(data)\n",
    "print(df[['Name', 'Age']])"
   ]
  },
  {
   "cell_type": "raw",
   "id": "79a6479f-6bf3-42a7-aade-52e35a9524eb",
   "metadata": {},
   "source": [
    "#checking for missing values-isnull() and notnull()\n",
    "#isnull() - it returns True for missing and false otherwise\n",
    "#notnull() - it return the opposite"
   ]
  },
  {
   "cell_type": "code",
   "execution_count": 37,
   "id": "415eb1f3-2439-483e-a8e3-96ef3e16f621",
   "metadata": {},
   "outputs": [
    {
     "data": {
      "text/html": [
       "<div>\n",
       "<style scoped>\n",
       "    .dataframe tbody tr th:only-of-type {\n",
       "        vertical-align: middle;\n",
       "    }\n",
       "\n",
       "    .dataframe tbody tr th {\n",
       "        vertical-align: top;\n",
       "    }\n",
       "\n",
       "    .dataframe thead th {\n",
       "        text-align: right;\n",
       "    }\n",
       "</style>\n",
       "<table border=\"1\" class=\"dataframe\">\n",
       "  <thead>\n",
       "    <tr style=\"text-align: right;\">\n",
       "      <th></th>\n",
       "      <th>First Score</th>\n",
       "      <th>second score</th>\n",
       "    </tr>\n",
       "  </thead>\n",
       "  <tbody>\n",
       "    <tr>\n",
       "      <th>0</th>\n",
       "      <td>True</td>\n",
       "      <td>True</td>\n",
       "    </tr>\n",
       "    <tr>\n",
       "      <th>1</th>\n",
       "      <td>True</td>\n",
       "      <td>True</td>\n",
       "    </tr>\n",
       "    <tr>\n",
       "      <th>2</th>\n",
       "      <td>False</td>\n",
       "      <td>True</td>\n",
       "    </tr>\n",
       "    <tr>\n",
       "      <th>3</th>\n",
       "      <td>True</td>\n",
       "      <td>False</td>\n",
       "    </tr>\n",
       "  </tbody>\n",
       "</table>\n",
       "</div>"
      ],
      "text/plain": [
       "   First Score  second score\n",
       "0         True          True\n",
       "1         True          True\n",
       "2        False          True\n",
       "3         True         False"
      ]
     },
     "execution_count": 37,
     "metadata": {},
     "output_type": "execute_result"
    }
   ],
   "source": [
    "import pandas as pd\n",
    "import numpy as np\n",
    "dict= {'First Score':[100,90, np.nan, 95],\n",
    "       'second score': [30,45,56,np.nan]}\n",
    "df=pd.DataFrame(dict)\n",
    "df.notnull()"
   ]
  },
  {
   "cell_type": "code",
   "execution_count": 38,
   "id": "a35c5a30-57c4-497a-bd3c-48bc4eb748b0",
   "metadata": {},
   "outputs": [
    {
     "data": {
      "text/html": [
       "<div>\n",
       "<style scoped>\n",
       "    .dataframe tbody tr th:only-of-type {\n",
       "        vertical-align: middle;\n",
       "    }\n",
       "\n",
       "    .dataframe tbody tr th {\n",
       "        vertical-align: top;\n",
       "    }\n",
       "\n",
       "    .dataframe thead th {\n",
       "        text-align: right;\n",
       "    }\n",
       "</style>\n",
       "<table border=\"1\" class=\"dataframe\">\n",
       "  <thead>\n",
       "    <tr style=\"text-align: right;\">\n",
       "      <th></th>\n",
       "      <th>First Score</th>\n",
       "      <th>Second Score</th>\n",
       "      <th>Third Score</th>\n",
       "    </tr>\n",
       "  </thead>\n",
       "  <tbody>\n",
       "    <tr>\n",
       "      <th>0</th>\n",
       "      <td>100.0</td>\n",
       "      <td>30.0</td>\n",
       "      <td>0.0</td>\n",
       "    </tr>\n",
       "    <tr>\n",
       "      <th>1</th>\n",
       "      <td>90.0</td>\n",
       "      <td>45.0</td>\n",
       "      <td>40.0</td>\n",
       "    </tr>\n",
       "    <tr>\n",
       "      <th>2</th>\n",
       "      <td>0.0</td>\n",
       "      <td>56.0</td>\n",
       "      <td>80.0</td>\n",
       "    </tr>\n",
       "    <tr>\n",
       "      <th>3</th>\n",
       "      <td>95.0</td>\n",
       "      <td>0.0</td>\n",
       "      <td>98.0</td>\n",
       "    </tr>\n",
       "  </tbody>\n",
       "</table>\n",
       "</div>"
      ],
      "text/plain": [
       "   First Score  Second Score  Third Score\n",
       "0        100.0          30.0          0.0\n",
       "1         90.0          45.0         40.0\n",
       "2          0.0          56.0         80.0\n",
       "3         95.0           0.0         98.0"
      ]
     },
     "execution_count": 38,
     "metadata": {},
     "output_type": "execute_result"
    }
   ],
   "source": [
    "#fillna , replace(),  interploate()   ...... these func replace NaN, help to fill null, \n",
    "#interploate()-fill NA values\n",
    "import pandas as pd\n",
    " \n",
    "import numpy as np\n",
    " \n",
    "dict = {'First Score':[100, 90, np.nan, 95],\n",
    "        'Second Score': [30, 45, 56, np.nan],\n",
    "        'Third Score':[np.nan, 40, 80, 98]}\n",
    "df = pd.DataFrame(dict)\n",
    " \n",
    "df.fillna(0)"
   ]
  },
  {
   "cell_type": "code",
   "execution_count": 39,
   "id": "1087e4fa-1964-4248-87fb-4cfe796243e8",
   "metadata": {},
   "outputs": [
    {
     "data": {
      "text/html": [
       "<div>\n",
       "<style scoped>\n",
       "    .dataframe tbody tr th:only-of-type {\n",
       "        vertical-align: middle;\n",
       "    }\n",
       "\n",
       "    .dataframe tbody tr th {\n",
       "        vertical-align: top;\n",
       "    }\n",
       "\n",
       "    .dataframe thead th {\n",
       "        text-align: right;\n",
       "    }\n",
       "</style>\n",
       "<table border=\"1\" class=\"dataframe\">\n",
       "  <thead>\n",
       "    <tr style=\"text-align: right;\">\n",
       "      <th></th>\n",
       "      <th>First Score</th>\n",
       "      <th>Second Score</th>\n",
       "      <th>Third Score</th>\n",
       "      <th>Fourth Score</th>\n",
       "    </tr>\n",
       "  </thead>\n",
       "  <tbody>\n",
       "    <tr>\n",
       "      <th>3</th>\n",
       "      <td>95.0</td>\n",
       "      <td>56.0</td>\n",
       "      <td>98</td>\n",
       "      <td>65.0</td>\n",
       "    </tr>\n",
       "  </tbody>\n",
       "</table>\n",
       "</div>"
      ],
      "text/plain": [
       "   First Score  Second Score  Third Score  Fourth Score\n",
       "3         95.0          56.0           98          65.0"
      ]
     },
     "execution_count": 39,
     "metadata": {},
     "output_type": "execute_result"
    }
   ],
   "source": [
    "#dropna(remove rows or columns with missing data)\n",
    "import pandas as pd\n",
    " \n",
    "import numpy as np\n",
    " \n",
    "dict = {'First Score':[100, 90, np.nan, 95],\n",
    "        'Second Score': [30, np.nan, 45, 56],\n",
    "        'Third Score':[52, 40, 80, 98],\n",
    "        'Fourth Score':[np.nan, np.nan, np.nan, 65]}\n",
    "df = pd.DataFrame(dict)\n",
    " \n",
    "df.dropna()\n"
   ]
  },
  {
   "cell_type": "code",
   "execution_count": 40,
   "id": "614508c8-31f6-4748-bd3d-fdc7f1823173",
   "metadata": {},
   "outputs": [
    {
     "name": "stdout",
     "output_type": "stream",
     "text": [
      "0 name      aparna\n",
      "degree       MBA\n",
      "score         90\n",
      "Name: 0, dtype: object\n",
      "\n",
      "1 name      pankaj\n",
      "degree       BCA\n",
      "score         40\n",
      "Name: 1, dtype: object\n",
      "\n",
      "2 name      sudhir\n",
      "degree    M.Tech\n",
      "score         80\n",
      "Name: 2, dtype: object\n",
      "\n",
      "3 name      Geeku\n",
      "degree      MBA\n",
      "score        98\n",
      "Name: 3, dtype: object\n",
      "\n"
     ]
    }
   ],
   "source": [
    "#iterrows()  -> in order to get a each element of row\n",
    "import pandas as pd\n",
    "  \n",
    "dict = {'name':[\"aparna\", \"pankaj\", \"sudhir\", \"Geeku\"],\n",
    "        'degree': [\"MBA\", \"BCA\", \"M.Tech\", \"MBA\"],\n",
    "        'score':[90, 40, 80, 98]}\n",
    " \n",
    "df = pd.DataFrame(dict)\n",
    "\n",
    "for i, j in df.iterrows():\n",
    "    print(i, j)\n",
    "    print()"
   ]
  },
  {
   "cell_type": "code",
   "execution_count": 42,
   "id": "7556e594-d008-4afb-8da4-87d882cbc277",
   "metadata": {},
   "outputs": [
    {
     "name": "stdout",
     "output_type": "stream",
     "text": [
      "sudhir\n",
      "M.Tech\n",
      "80\n"
     ]
    }
   ],
   "source": [
    "#itercolums-> iterate through colums \n",
    "\n",
    "import pandas as pd\n",
    "   \n",
    "dict = {'name':[\"aparna\", \"pankaj\", \"sudhir\", \"Geeku\"],\n",
    "        'degree': [\"MBA\", \"BCA\", \"M.Tech\", \"MBA\"],\n",
    "        'score':[90, 40, 80, 98]}\n",
    "  \n",
    "df = pd.DataFrame(dict)\n",
    "\n",
    "columns = list(df)\n",
    " \n",
    "for i in columns:\n",
    "    print (df[i][2])\n",
    "    \n"
   ]
  },
  {
   "cell_type": "code",
   "execution_count": null,
   "id": "1d15a5a7-7c0f-4256-aecb-c6a6fba10333",
   "metadata": {},
   "outputs": [],
   "source": [
    "#index()- method return index\n",
    "#insert() - insert a column into a dataframe\n",
    "#add - returns addition of dataframe\n",
    "#axes()  - returns a list representing the axes of the DataFrame\n",
    "#loc()  -  retrieves rows based on index label\n",
    "#iloc - retrieves rows based on index position"
   ]
  },
  {
   "cell_type": "code",
   "execution_count": 43,
   "id": "bd5b3698-54bd-4eaf-85dd-3ca0bee38668",
   "metadata": {},
   "outputs": [
    {
     "name": "stdout",
     "output_type": "stream",
     "text": [
      "     Name  Age       City\n",
      "0  Sahana   21  Bangalore\n",
      "1     Tom   20  Hyderabad\n"
     ]
    }
   ],
   "source": [
    "import pandas as pd\n",
    "data={\n",
    "    \"Name\":[\"Sahana\",\"Tom\"],\n",
    "    \"Age\": [21,20],\n",
    "    \"City\":[\"Bangalore\", \"Hyderabad\"]\n",
    "}\n",
    "df=pd.DataFrame(data)\n",
    "print(df)"
   ]
  },
  {
   "cell_type": "code",
   "execution_count": 51,
   "id": "8c322d06-e2a9-47f4-89aa-d3dc9b0cfb22",
   "metadata": {},
   "outputs": [
    {
     "name": "stdout",
     "output_type": "stream",
     "text": [
      "     Name  Age       City\n",
      "0  Sahana   21  Bangalore\n",
      "1     Tom   20  Hyderabad\n"
     ]
    }
   ],
   "source": [
    "import pandas as pd\n",
    "\n",
    "names=[\"Sahana\",\"Tom\"]\n",
    "ages=[21,20]\n",
    "cities=[\"Bangalore\", \"Hyderabad\"]\n",
    "\n",
    "df=pd.DataFrame({\n",
    "    \"Name\" : names,\n",
    "    \"Age\" : ages,\n",
    "    \"City\" : cities\n",
    "})\n",
    "print(df)"
   ]
  },
  {
   "cell_type": "code",
   "execution_count": null,
   "id": "164078ee-f243-4835-a304-daa5631e5722",
   "metadata": {},
   "outputs": [],
   "source": [
    "#head(n): Displaying the First Few Rows\n",
    "#tail(n): Displaying the Last Few Rows\n",
    "#exploring colums\n",
    "print(df.colums)\n",
    "#checking data types\n",
    "print(df.dtypes)\n",
    "#generating describe\n",
    "print(df.describe())\n",
    "#accessing a single column and multiple columns\n",
    "print(df[\"Name\"])\n",
    "print(df[[\"Name\", \"city\"]])\n",
    "print(df[\"City\"].unique())    #finding unique values in a column\n",
    "print(df[df[\"Age\"]>30])\n",
    "print(df.iloc[0])   #index based indexing with iloc\n",
    "df=df.drop('City', axis=1)\n",
    "print(df) # delete a col\n",
    "df=df[df['Age']!=35]\n",
    "print(df)    # delete row based on condition"
   ]
  }
 ],
 "metadata": {
  "kernelspec": {
   "display_name": "Python 3 (ipykernel)",
   "language": "python",
   "name": "python3"
  },
  "language_info": {
   "codemirror_mode": {
    "name": "ipython",
    "version": 3
   },
   "file_extension": ".py",
   "mimetype": "text/x-python",
   "name": "python",
   "nbconvert_exporter": "python",
   "pygments_lexer": "ipython3",
   "version": "3.11.7"
  },
  "widgets": {
   "application/vnd.jupyter.widget-state+json": {
    "state": {},
    "version_major": 2,
    "version_minor": 0
   }
  }
 },
 "nbformat": 4,
 "nbformat_minor": 5
}
